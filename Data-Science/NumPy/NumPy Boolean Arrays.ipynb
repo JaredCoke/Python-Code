{
 "cells": [
  {
   "cell_type": "markdown",
   "id": "b556a6f4",
   "metadata": {},
   "source": [
    "# Boolean Arrays\n",
    "\n",
    "(also called masks)"
   ]
  },
  {
   "cell_type": "code",
   "execution_count": 2,
   "id": "04735ed0",
   "metadata": {},
   "outputs": [],
   "source": [
    "import numpy as np"
   ]
  },
  {
   "cell_type": "code",
   "execution_count": 7,
   "id": "18f957c3",
   "metadata": {},
   "outputs": [],
   "source": [
    "a = np.arange(4)"
   ]
  },
  {
   "cell_type": "code",
   "execution_count": 8,
   "id": "503510d7",
   "metadata": {},
   "outputs": [
    {
     "data": {
      "text/plain": [
       "array([0, 1, 2, 3])"
      ]
     },
     "execution_count": 8,
     "metadata": {},
     "output_type": "execute_result"
    }
   ],
   "source": [
    "a"
   ]
  },
  {
   "cell_type": "code",
   "execution_count": 17,
   "id": "eeaf7352",
   "metadata": {},
   "outputs": [
    {
     "name": "stdout",
     "output_type": "stream",
     "text": [
      "[0 3]\n",
      "0 3\n"
     ]
    }
   ],
   "source": [
    "print(a[[0,-1]]) # get first and last element\n",
    "print(a[0], a[-1])"
   ]
  },
  {
   "cell_type": "code",
   "execution_count": 18,
   "id": "bb3a8b07",
   "metadata": {},
   "outputs": [
    {
     "data": {
      "text/plain": [
       "array([0, 3])"
      ]
     },
     "execution_count": 18,
     "metadata": {},
     "output_type": "execute_result"
    }
   ],
   "source": [
    "a[[True, False, False, True]] # get first and last element | Boolean way of saying a[0,-1]"
   ]
  },
  {
   "cell_type": "code",
   "execution_count": 19,
   "id": "9d6d5b65",
   "metadata": {},
   "outputs": [
    {
     "data": {
      "text/plain": [
       "array([ 0, 10, 20, 30])"
      ]
     },
     "execution_count": 19,
     "metadata": {},
     "output_type": "execute_result"
    }
   ],
   "source": [
    "a * 10"
   ]
  },
  {
   "cell_type": "code",
   "execution_count": 20,
   "id": "81b4345e",
   "metadata": {},
   "outputs": [
    {
     "data": {
      "text/plain": [
       "array([0, 1, 2, 3])"
      ]
     },
     "execution_count": 20,
     "metadata": {},
     "output_type": "execute_result"
    }
   ],
   "source": [
    "a"
   ]
  },
  {
   "cell_type": "code",
   "execution_count": 21,
   "id": "4f5f6e83",
   "metadata": {},
   "outputs": [
    {
     "data": {
      "text/plain": [
       "array([False, False,  True,  True])"
      ]
     },
     "execution_count": 21,
     "metadata": {},
     "output_type": "execute_result"
    }
   ],
   "source": [
    "a >= 2 # gets all elements which are greater than 2"
   ]
  },
  {
   "cell_type": "markdown",
   "id": "cf2591a9",
   "metadata": {},
   "source": [
    "## Filtering | Querying"
   ]
  },
  {
   "cell_type": "code",
   "execution_count": 24,
   "id": "6b2e0db0",
   "metadata": {},
   "outputs": [
    {
     "data": {
      "text/plain": [
       "array([2, 3])"
      ]
     },
     "execution_count": 24,
     "metadata": {},
     "output_type": "execute_result"
    }
   ],
   "source": [
    "a[a >= 2] # filtering | querying | pass indices where a>=2 and gets all elements that pass this check"
   ]
  },
  {
   "cell_type": "code",
   "execution_count": 25,
   "id": "ac875d00",
   "metadata": {},
   "outputs": [
    {
     "data": {
      "text/plain": [
       "1.5"
      ]
     },
     "execution_count": 25,
     "metadata": {},
     "output_type": "execute_result"
    }
   ],
   "source": [
    "a.mean()"
   ]
  },
  {
   "cell_type": "markdown",
   "id": "957f621e",
   "metadata": {},
   "source": [
    "## Get all values which are greater than mean"
   ]
  },
  {
   "cell_type": "code",
   "execution_count": 28,
   "id": "544f82d4",
   "metadata": {},
   "outputs": [
    {
     "data": {
      "text/plain": [
       "array([2, 3])"
      ]
     },
     "execution_count": 28,
     "metadata": {},
     "output_type": "execute_result"
    }
   ],
   "source": [
    "a[a > a.mean()]"
   ]
  },
  {
   "cell_type": "code",
   "execution_count": 27,
   "id": "7aba1391",
   "metadata": {},
   "outputs": [
    {
     "data": {
      "text/plain": [
       "array([0, 1])"
      ]
     },
     "execution_count": 27,
     "metadata": {},
     "output_type": "execute_result"
    }
   ],
   "source": [
    "a[~(a > a.mean())] # gets all values which are NOT greater than mean"
   ]
  },
  {
   "cell_type": "code",
   "execution_count": 30,
   "id": "888fdd75",
   "metadata": {},
   "outputs": [
    {
     "data": {
      "text/plain": [
       "array([0, 1])"
      ]
     },
     "execution_count": 30,
     "metadata": {},
     "output_type": "execute_result"
    }
   ],
   "source": [
    "a[(a == 0) | (a == 1)] # use '|' to represent OR"
   ]
  },
  {
   "cell_type": "code",
   "execution_count": 31,
   "id": "f2a21807",
   "metadata": {},
   "outputs": [
    {
     "data": {
      "text/plain": [
       "array([0, 2])"
      ]
     },
     "execution_count": 31,
     "metadata": {},
     "output_type": "execute_result"
    }
   ],
   "source": [
    "a[(a <= 2) & (a % 2 == 0)] # use & to represent AND"
   ]
  },
  {
   "cell_type": "code",
   "execution_count": 33,
   "id": "52cfc4f8",
   "metadata": {},
   "outputs": [
    {
     "data": {
      "text/plain": [
       "array([[56, 55, 56],\n",
       "       [85, 36, 48],\n",
       "       [30, 72, 35]])"
      ]
     },
     "execution_count": 33,
     "metadata": {},
     "output_type": "execute_result"
    }
   ],
   "source": [
    "A = np.random.randint(100, size=(3, 3))\n",
    "A"
   ]
  },
  {
   "cell_type": "markdown",
   "id": "eed7c39a",
   "metadata": {},
   "source": [
    "### Convert 3x3 Array into 1D array w/ Boolean Filtering"
   ]
  },
  {
   "cell_type": "code",
   "execution_count": 37,
   "id": "7faf33b3",
   "metadata": {},
   "outputs": [
    {
     "data": {
      "text/plain": [
       "array([56, 55, 56, 85, 36, 48, 30, 72, 35])"
      ]
     },
     "execution_count": 37,
     "metadata": {},
     "output_type": "execute_result"
    }
   ],
   "source": [
    "A[np.array([\n",
    "    [True, True, True],\n",
    "    [True, True, True],\n",
    "    [True, True, True]\n",
    "])]"
   ]
  },
  {
   "cell_type": "markdown",
   "id": "e69f33f7",
   "metadata": {},
   "source": [
    "### Filter out Elements, Leaving a 1D Array"
   ]
  },
  {
   "cell_type": "code",
   "execution_count": 38,
   "id": "500d9521",
   "metadata": {},
   "outputs": [
    {
     "data": {
      "text/plain": [
       "array([56, 56, 36, 30, 35])"
      ]
     },
     "execution_count": 38,
     "metadata": {},
     "output_type": "execute_result"
    }
   ],
   "source": [
    "A[np.array([\n",
    "    [True, False, True],\n",
    "    [False, True, False],\n",
    "    [True, False, True]\n",
    "])]"
   ]
  },
  {
   "cell_type": "markdown",
   "id": "b9d161f7",
   "metadata": {},
   "source": [
    "### Create a Booelan Matrix After Result of Operator"
   ]
  },
  {
   "cell_type": "code",
   "execution_count": 40,
   "id": "239a9b46",
   "metadata": {},
   "outputs": [
    {
     "data": {
      "text/plain": [
       "array([[ True,  True,  True],\n",
       "       [ True,  True,  True],\n",
       "       [False,  True,  True]])"
      ]
     },
     "execution_count": 40,
     "metadata": {},
     "output_type": "execute_result"
    }
   ],
   "source": [
    "A > 30"
   ]
  },
  {
   "cell_type": "markdown",
   "id": "beb54574",
   "metadata": {},
   "source": [
    "### Filter Out Elements which Pass Validation"
   ]
  },
  {
   "cell_type": "code",
   "execution_count": 41,
   "id": "93277cdd",
   "metadata": {},
   "outputs": [
    {
     "data": {
      "text/plain": [
       "array([56, 55, 56, 85, 36, 48, 72, 35])"
      ]
     },
     "execution_count": 41,
     "metadata": {},
     "output_type": "execute_result"
    }
   ],
   "source": [
    "A[A > 30]"
   ]
  },
  {
   "cell_type": "code",
   "execution_count": null,
   "id": "2b249610",
   "metadata": {},
   "outputs": [],
   "source": []
  },
  {
   "cell_type": "code",
   "execution_count": null,
   "id": "022baa65",
   "metadata": {},
   "outputs": [],
   "source": []
  },
  {
   "cell_type": "code",
   "execution_count": null,
   "id": "c08f819d",
   "metadata": {},
   "outputs": [],
   "source": []
  }
 ],
 "metadata": {
  "kernelspec": {
   "display_name": "Python 3 (ipykernel)",
   "language": "python",
   "name": "python3"
  },
  "language_info": {
   "codemirror_mode": {
    "name": "ipython",
    "version": 3
   },
   "file_extension": ".py",
   "mimetype": "text/x-python",
   "name": "python",
   "nbconvert_exporter": "python",
   "pygments_lexer": "ipython3",
   "version": "3.9.13"
  }
 },
 "nbformat": 4,
 "nbformat_minor": 5
}
